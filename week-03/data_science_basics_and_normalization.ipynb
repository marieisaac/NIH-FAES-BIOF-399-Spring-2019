{
 "cells": [
  {
   "cell_type": "code",
   "execution_count": 2,
   "metadata": {
    "scrolled": true
   },
   "outputs": [
    {
     "name": "stdout",
     "output_type": "stream",
     "text": [
      "Requirement already up-to-date: scikit-image in /opt/conda/lib/python3.6/site-packages (0.14.2)\n",
      "Requirement already satisfied, skipping upgrade: scipy>=0.17.0 in /opt/conda/lib/python3.6/site-packages (from scikit-image) (1.1.0)\n",
      "Requirement already satisfied, skipping upgrade: six>=1.10.0 in /opt/conda/lib/python3.6/site-packages (from scikit-image) (1.12.0)\n",
      "Requirement already satisfied, skipping upgrade: PyWavelets>=0.4.0 in /opt/conda/lib/python3.6/site-packages (from scikit-image) (1.0.2)\n",
      "Requirement already satisfied, skipping upgrade: pillow>=4.3.0 in /opt/conda/lib/python3.6/site-packages (from scikit-image) (5.4.1)\n",
      "Requirement already satisfied, skipping upgrade: dask[array]>=1.0.0 in /opt/conda/lib/python3.6/site-packages (from scikit-image) (1.1.2)\n",
      "Requirement already satisfied, skipping upgrade: cloudpickle>=0.2.1 in /opt/conda/lib/python3.6/site-packages (from scikit-image) (0.8.0)\n",
      "Requirement already satisfied, skipping upgrade: networkx>=1.8 in /opt/conda/lib/python3.6/site-packages (from scikit-image) (2.0)\n",
      "Requirement already satisfied, skipping upgrade: matplotlib>=2.0.0 in /opt/conda/lib/python3.6/site-packages (from scikit-image) (3.0.2)\n",
      "Requirement already satisfied, skipping upgrade: numpy>=1.9.1 in /opt/conda/lib/python3.6/site-packages (from PyWavelets>=0.4.0->scikit-image) (1.15.4)\n",
      "Requirement already satisfied, skipping upgrade: toolz>=0.7.3; extra == \"array\" in /opt/conda/lib/python3.6/site-packages (from dask[array]>=1.0.0->scikit-image) (0.9.0)\n",
      "Requirement already satisfied, skipping upgrade: decorator>=4.1.0 in /opt/conda/lib/python3.6/site-packages (from networkx>=1.8->scikit-image) (4.3.0)\n",
      "Requirement already satisfied, skipping upgrade: kiwisolver>=1.0.1 in /opt/conda/lib/python3.6/site-packages (from matplotlib>=2.0.0->scikit-image) (1.0.1)\n",
      "Requirement already satisfied, skipping upgrade: pyparsing!=2.0.4,!=2.1.2,!=2.1.6,>=2.0.1 in /opt/conda/lib/python3.6/site-packages (from matplotlib>=2.0.0->scikit-image) (2.3.0)\n",
      "Requirement already satisfied, skipping upgrade: cycler>=0.10 in /opt/conda/lib/python3.6/site-packages (from matplotlib>=2.0.0->scikit-image) (0.10.0)\n",
      "Requirement already satisfied, skipping upgrade: python-dateutil>=2.1 in /opt/conda/lib/python3.6/site-packages (from matplotlib>=2.0.0->scikit-image) (2.7.5)\n",
      "Requirement already satisfied, skipping upgrade: setuptools in /opt/conda/lib/python3.6/site-packages (from kiwisolver>=1.0.1->matplotlib>=2.0.0->scikit-image) (40.6.3)\n",
      "Requirement already satisfied: imgaug in /opt/conda/lib/python3.6/site-packages (0.2.8)\n",
      "Requirement already satisfied: scikit-image>=0.11.0 in /opt/conda/lib/python3.6/site-packages (from imgaug) (0.14.2)\n",
      "Requirement already satisfied: matplotlib in /opt/conda/lib/python3.6/site-packages (from imgaug) (3.0.2)\n",
      "Requirement already satisfied: scipy in /opt/conda/lib/python3.6/site-packages (from imgaug) (1.1.0)\n",
      "Requirement already satisfied: Pillow in /opt/conda/lib/python3.6/site-packages (from imgaug) (5.4.1)\n",
      "Requirement already satisfied: imageio in /opt/conda/lib/python3.6/site-packages (from imgaug) (2.5.0)\n",
      "Requirement already satisfied: numpy>=1.15.0 in /opt/conda/lib/python3.6/site-packages (from imgaug) (1.15.4)\n",
      "Requirement already satisfied: six in /opt/conda/lib/python3.6/site-packages (from imgaug) (1.12.0)\n",
      "Requirement already satisfied: Shapely in /opt/conda/lib/python3.6/site-packages (from imgaug) (1.6.4.post2)\n",
      "Requirement already satisfied: opencv-python in /opt/conda/lib/python3.6/site-packages (from imgaug) (4.0.0.21)\n",
      "Requirement already satisfied: cloudpickle>=0.2.1 in /opt/conda/lib/python3.6/site-packages (from scikit-image>=0.11.0->imgaug) (0.8.0)\n",
      "Requirement already satisfied: dask[array]>=1.0.0 in /opt/conda/lib/python3.6/site-packages (from scikit-image>=0.11.0->imgaug) (1.1.2)\n",
      "Requirement already satisfied: PyWavelets>=0.4.0 in /opt/conda/lib/python3.6/site-packages (from scikit-image>=0.11.0->imgaug) (1.0.2)\n",
      "Requirement already satisfied: networkx>=1.8 in /opt/conda/lib/python3.6/site-packages (from scikit-image>=0.11.0->imgaug) (2.0)\n",
      "Requirement already satisfied: pyparsing!=2.0.4,!=2.1.2,!=2.1.6,>=2.0.1 in /opt/conda/lib/python3.6/site-packages (from matplotlib->imgaug) (2.3.0)\n",
      "Requirement already satisfied: kiwisolver>=1.0.1 in /opt/conda/lib/python3.6/site-packages (from matplotlib->imgaug) (1.0.1)\n",
      "Requirement already satisfied: python-dateutil>=2.1 in /opt/conda/lib/python3.6/site-packages (from matplotlib->imgaug) (2.7.5)\n",
      "Requirement already satisfied: cycler>=0.10 in /opt/conda/lib/python3.6/site-packages (from matplotlib->imgaug) (0.10.0)\n",
      "Requirement already satisfied: toolz>=0.7.3; extra == \"array\" in /opt/conda/lib/python3.6/site-packages (from dask[array]>=1.0.0->scikit-image>=0.11.0->imgaug) (0.9.0)\n",
      "Requirement already satisfied: decorator>=4.1.0 in /opt/conda/lib/python3.6/site-packages (from networkx>=1.8->scikit-image>=0.11.0->imgaug) (4.3.0)\n",
      "Requirement already satisfied: setuptools in /opt/conda/lib/python3.6/site-packages (from kiwisolver>=1.0.1->matplotlib->imgaug) (40.6.3)\n",
      "Requirement already satisfied: pandas==0.23.4 in /opt/conda/lib/python3.6/site-packages (0.23.4)\n",
      "Requirement already satisfied: numpy>=1.9.0 in /opt/conda/lib/python3.6/site-packages (from pandas==0.23.4) (1.15.4)\n",
      "Requirement already satisfied: python-dateutil>=2.5.0 in /opt/conda/lib/python3.6/site-packages (from pandas==0.23.4) (2.7.5)\n",
      "Requirement already satisfied: pytz>=2011k in /opt/conda/lib/python3.6/site-packages (from pandas==0.23.4) (2018.7)\n",
      "Requirement already satisfied: six>=1.5 in /opt/conda/lib/python3.6/site-packages (from python-dateutil>=2.5.0->pandas==0.23.4) (1.12.0)\n",
      "Requirement already satisfied: pydicom in /opt/conda/lib/python3.6/site-packages (1.2.2)\n",
      "Collecting seaborn\n",
      "\u001b[?25l  Downloading https://files.pythonhosted.org/packages/a8/76/220ba4420459d9c4c9c9587c6ce607bf56c25b3d3d2de62056efe482dadc/seaborn-0.9.0-py3-none-any.whl (208kB)\n",
      "\u001b[K    100% |████████████████████████████████| 215kB 41.5MB/s ta 0:00:01\n",
      "\u001b[?25hRequirement already satisfied: matplotlib>=1.4.3 in /opt/conda/lib/python3.6/site-packages (from seaborn) (3.0.2)\n",
      "Requirement already satisfied: numpy>=1.9.3 in /opt/conda/lib/python3.6/site-packages (from seaborn) (1.15.4)\n",
      "Requirement already satisfied: pandas>=0.15.2 in /opt/conda/lib/python3.6/site-packages (from seaborn) (0.23.4)\n",
      "Requirement already satisfied: scipy>=0.14.0 in /opt/conda/lib/python3.6/site-packages (from seaborn) (1.1.0)\n",
      "Requirement already satisfied: cycler>=0.10 in /opt/conda/lib/python3.6/site-packages (from matplotlib>=1.4.3->seaborn) (0.10.0)\n",
      "Requirement already satisfied: kiwisolver>=1.0.1 in /opt/conda/lib/python3.6/site-packages (from matplotlib>=1.4.3->seaborn) (1.0.1)\n",
      "Requirement already satisfied: python-dateutil>=2.1 in /opt/conda/lib/python3.6/site-packages (from matplotlib>=1.4.3->seaborn) (2.7.5)\n",
      "Requirement already satisfied: pyparsing!=2.0.4,!=2.1.2,!=2.1.6,>=2.0.1 in /opt/conda/lib/python3.6/site-packages (from matplotlib>=1.4.3->seaborn) (2.3.0)\n",
      "Requirement already satisfied: pytz>=2011k in /opt/conda/lib/python3.6/site-packages (from pandas>=0.15.2->seaborn) (2018.7)\n",
      "Requirement already satisfied: six in /opt/conda/lib/python3.6/site-packages (from cycler>=0.10->matplotlib>=1.4.3->seaborn) (1.12.0)\n",
      "Requirement already satisfied: setuptools in /opt/conda/lib/python3.6/site-packages (from kiwisolver>=1.0.1->matplotlib>=1.4.3->seaborn) (40.6.3)\n",
      "Installing collected packages: seaborn\n",
      "Successfully installed seaborn-0.9.0\n"
     ]
    }
   ],
   "source": [
    "# install some libraries if not installed already\n",
    "!pip install --upgrade scikit-image \n",
    "!pip install imgaug\n",
    "!pip install pandas==0.23.4\n",
    "!pip install pydicom\n",
    "!pip install seaborn==0.9.0"
   ]
  },
  {
   "cell_type": "code",
   "execution_count": 3,
   "metadata": {},
   "outputs": [],
   "source": [
    "# import some libraries we will use\n",
    "import os, sys, glob, csv, random\n",
    "import pydicom\n",
    "\n",
    "import matplotlib.pyplot as plt\n",
    "import numpy as np\n",
    "\n",
    "from skimage import io\n",
    "\n",
    "import seaborn as sns\n",
    "import pandas as pd"
   ]
  },
  {
   "cell_type": "code",
   "execution_count": 6,
   "metadata": {},
   "outputs": [
    {
     "ename": "ModuleNotFoundError",
     "evalue": "No module named 'Image'",
     "output_type": "error",
     "traceback": [
      "\u001b[0;31m---------------------------------------------------------------------------\u001b[0m",
      "\u001b[0;31mModuleNotFoundError\u001b[0m                       Traceback (most recent call last)",
      "\u001b[0;32m<ipython-input-6-a73c4ff6cc73>\u001b[0m in \u001b[0;36m<module>\u001b[0;34m\u001b[0m\n\u001b[0;32m----> 1\u001b[0;31m \u001b[0;32mimport\u001b[0m \u001b[0mImage\u001b[0m\u001b[0;34m\u001b[0m\u001b[0;34m\u001b[0m\u001b[0m\n\u001b[0m",
      "\u001b[0;31mModuleNotFoundError\u001b[0m: No module named 'Image'"
     ]
    }
   ],
   "source": [
    "import Image"
   ]
  },
  {
   "cell_type": "code",
   "execution_count": null,
   "metadata": {},
   "outputs": [],
   "source": [
    "# MNIST handwritten digits"
   ]
  },
  {
   "cell_type": "code",
   "execution_count": null,
   "metadata": {},
   "outputs": [],
   "source": [
    "# get the dataset if you don't have it already or on Colab - 1\n",
    "!git clone https://github.com/myleott/mnist_png.git"
   ]
  },
  {
   "cell_type": "code",
   "execution_count": null,
   "metadata": {},
   "outputs": [],
   "source": [
    "# get the dataset if you don't have it already or on Colab - 2\n",
    "os.chdir('mnist_png')"
   ]
  },
  {
   "cell_type": "code",
   "execution_count": null,
   "metadata": {},
   "outputs": [],
   "source": [
    "# get the dataset if you don't have it already or on Colab - 3\n",
    "!tar -xzf mnist_png.tar.gz\n",
    "!ls"
   ]
  },
  {
   "cell_type": "code",
   "execution_count": null,
   "metadata": {},
   "outputs": [],
   "source": [
    "mnist_base_dir_tr = 'mnist_png' # or point to appropriate directory if you're on Biowulf and already have the data"
   ]
  },
  {
   "cell_type": "code",
   "execution_count": null,
   "metadata": {},
   "outputs": [],
   "source": [
    "# load all images in the training set\n",
    "mnist_digits = dict.fromkeys(range(10))\n",
    "for num in range(10):\n",
    "    mnist_digits[num] = glob.glob(os.path.join(mnist_base_dir_tr, 'training', str(num), '*.png'))"
   ]
  },
  {
   "cell_type": "code",
   "execution_count": null,
   "metadata": {
    "scrolled": true
   },
   "outputs": [],
   "source": [
    "# visualize the number of class instances\n",
    "sns.barplot(x=[num for num in range(10)], y=[len(mnist_digits[num]) for num in mnist_digits])"
   ]
  },
  {
   "cell_type": "code",
   "execution_count": null,
   "metadata": {},
   "outputs": [],
   "source": [
    "# Exercise #1: Get the total number of instances (digits 0-9) in the training set"
   ]
  },
  {
   "cell_type": "code",
   "execution_count": null,
   "metadata": {},
   "outputs": [],
   "source": [
    "# Exercise #2: Do the same (visualize number of class instances, get total number of instances) for the testing set"
   ]
  },
  {
   "cell_type": "code",
   "execution_count": null,
   "metadata": {},
   "outputs": [],
   "source": [
    "# Get the mean and std of the 1000 sample images of each digits in the training set\n",
    "digits_sample_1000 = np.empty((10*1000,28*28))\n",
    "idx = 0\n",
    "for num in range(10):\n",
    "    ridx = random.sample(range(len(mnist_digits[num])), 1000)\n",
    "    for i in range(1000):\n",
    "        digits_sample_1000[idx] = io.imread(mnist_digits[num][ridx[i]]).flatten()\n",
    "        idx += 1"
   ]
  },
  {
   "cell_type": "code",
   "execution_count": null,
   "metadata": {},
   "outputs": [],
   "source": [
    "print('mean:', round(np.mean(digits_sample_1000), 2), 'std:', round(np.std(digits_sample_1000), 2))"
   ]
  },
  {
   "cell_type": "code",
   "execution_count": null,
   "metadata": {},
   "outputs": [],
   "source": [
    "# normalize the data to have zero mean and 1 std\n",
    "digits_sample_1000_norm = (digits_sample_1000 - np.mean(digits_sample_1000)) / np.std(digits_sample_1000)"
   ]
  },
  {
   "cell_type": "code",
   "execution_count": null,
   "metadata": {},
   "outputs": [],
   "source": [
    "print('mean:', round(np.mean(digits_sample_1000_norm), 2), 'std:', round(np.std(digits_sample_1000_norm), 2))"
   ]
  },
  {
   "cell_type": "code",
   "execution_count": null,
   "metadata": {},
   "outputs": [],
   "source": [
    "# chest x-ray"
   ]
  },
  {
   "cell_type": "code",
   "execution_count": null,
   "metadata": {},
   "outputs": [],
   "source": [
    "# Download and unzip pneumonia detection data if you're on Colab or don't have it already on Biowulf - 1\n",
    "ROOT_DIR = '../pn_chest_xray'\n",
    "if not os.path.exists(ROOT_DIR):\n",
    "    os.makedirs(ROOT_DIR)\n",
    "os.chdir(ROOT_DIR)"
   ]
  },
  {
   "cell_type": "code",
   "execution_count": null,
   "metadata": {
    "scrolled": true
   },
   "outputs": [],
   "source": [
    "# Download and unzip pneumonia detection data if you're on Colab or don't have it already on Biowulf - 2\n",
    "!wget --no-check-certificate -r 'https://docs.google.com/uc?export=download&id=1ertt7A696f8HC0qk-yqmSoTZKCsp2XWU' -O stage_1_train_images.zip"
   ]
  },
  {
   "cell_type": "code",
   "execution_count": null,
   "metadata": {
    "scrolled": true
   },
   "outputs": [],
   "source": [
    "# Download and unzip pneumonia detection data if you're on Colab or don't have it already on Biowulf - 3\n",
    "!wget --no-check-certificate -r 'https://docs.google.com/uc?export=download&id=1ppgqzDVa9hQYbxgjV_k7AUUOKTw7ca9Q' -O stage_1_test_images.zip"
   ]
  },
  {
   "cell_type": "code",
   "execution_count": null,
   "metadata": {
    "scrolled": true
   },
   "outputs": [],
   "source": [
    "# Download and unzip pneumonia detection data if you're on Colab or don't have it already on Biowulf - 4\n",
    "!wget --no-check-certificate -r 'https://docs.google.com/uc?export=download&id=1yI8jJw9DGMeZeMgHaoZBUeuebt11qe0v' -O stage_1_train_labels.csv.zip"
   ]
  },
  {
   "cell_type": "code",
   "execution_count": null,
   "metadata": {
    "scrolled": true
   },
   "outputs": [],
   "source": [
    "# Download and unzip pneumonia detection data if you're on Colab or don't have it already on Biowulf - 5\n",
    "!wget --no-check-certificate -r 'https://docs.google.com/uc?export=download&id=1lpa5bsCKOgesx1zP7h5UIDwN4FzvjooD' -O stage_1_detailed_class_info.csv.zip"
   ]
  },
  {
   "cell_type": "code",
   "execution_count": null,
   "metadata": {
    "scrolled": true
   },
   "outputs": [],
   "source": [
    "# Download and unzip pneumonia detection data if you're on Colab or don't have it already on Biowulf - 6\n",
    "# unzipping takes a few minutes\n",
    "!unzip -q -o stage_1_test_images.zip -d stage_1_test_images\n",
    "!unzip -q -o stage_1_train_images.zip -d stage_1_train_images\n",
    "!unzip -q -o stage_1_train_labels.csv.zip\n",
    "!unzip -q -o stage_1_detailed_class_info.csv.zip"
   ]
  },
  {
   "cell_type": "code",
   "execution_count": null,
   "metadata": {},
   "outputs": [],
   "source": [
    "# Download and unzip pneumonia detection data if you're on Colab or don't have it already on Biowulf - 7\n",
    "# fix some permission issues\n",
    "!chmod 644 stage_1_detailed_class_info.csv\n",
    "!chmod 644 stage_1_train_labels.csv"
   ]
  },
  {
   "cell_type": "code",
   "execution_count": null,
   "metadata": {},
   "outputs": [],
   "source": [
    "# Helper function to load the chest x-ray pneumonia dataset\n",
    "def load_cxray_list(ROOT_DIR, stage_num, test_only_part):\n",
    "  train_dicom_dir = os.path.join(ROOT_DIR, 'stage_' + stage_num + '_train_images')\n",
    "  test_dicom_dir = os.path.join(ROOT_DIR, 'stage_' + stage_num + '_test_images')\n",
    "  bbox_path = os.path.join(ROOT_DIR, 'stage_' + stage_num + '_train_labels.csv')\n",
    "\n",
    "  # make DataFrame with images\n",
    "  det_class_df = pd.read_csv(os.path.join(ROOT_DIR, 'stage_' + stage_num + '_detailed_class_info.csv'))\n",
    "  bbox_df = pd.read_csv(os.path.join(ROOT_DIR, 'stage_' + stage_num + '_train_labels.csv'))\n",
    "  comb_bbox_df = pd.concat([bbox_df, \n",
    "                            det_class_df.drop('patientId',1)], 1)\n",
    " \n",
    "  image_df = pd.DataFrame({'path': glob.glob(os.path.join(train_dicom_dir, '*.dcm'))})\n",
    "  image_df['patientId'] = image_df['path'].map(lambda x: os.path.splitext(os.path.basename(x))[0])\n",
    "\n",
    "  if test_only_part:\n",
    "    det_class_df = det_class_df.iloc[:1000]\n",
    "    bbox_df = bbox_df.iloc[:1000]\n",
    "    comb_bbox_df = comb_bbox_df.iloc[:1000]\n",
    "\n",
    "    image_df = (comb_bbox_df.merge(image_df))[['path', 'patientId']]\n",
    " \n",
    "  print(image_df.shape[0], 'images found')\n",
    "  img_pat_ids = set(image_df['patientId'].values.tolist())\n",
    "  box_pat_ids = set(comb_bbox_df['patientId'].values.tolist())\n",
    "  # check to make sure there is no funny business\n",
    "  assert img_pat_ids.union(box_pat_ids)==img_pat_ids, \"Patient IDs should be the same\"\n",
    "\n",
    "  # get data statistics\n",
    "  DCM_TAG_LIST = ['PatientAge', 'BodyPartExamined', 'ViewPosition', 'PatientSex']\n",
    "  def get_tags(in_path):\n",
    "      c_dicom = pydicom.read_file(in_path, stop_before_pixels=True)\n",
    "      tag_dict = {c_tag: getattr(c_dicom, c_tag, '') \n",
    "           for c_tag in DCM_TAG_LIST}\n",
    "      tag_dict['path'] = in_path\n",
    "      return pd.Series(tag_dict)\n",
    "  image_meta_df = image_df.apply(lambda x: get_tags(x['path']), 1)\n",
    "  image_meta_df['PatientAge'] = image_meta_df['PatientAge'].map(int)\n",
    "\n",
    "  # merge into one DataFrame\n",
    "  image_full_df = pd.merge(image_df,\n",
    "                           image_meta_df,\n",
    "                           on='path')\n",
    "  image_bbox_df = pd.merge(comb_bbox_df, \n",
    "                           image_full_df, \n",
    "                           on='patientId',\n",
    "                          how='left') \n",
    "\n",
    "  # make (image_path, label) lists\n",
    "  image_paths = []\n",
    "  labels = []\n",
    "  class_to_label = {'Normal': 0, 'Lung Opacity': 1, 'No Lung Opacity / Not Normal': 2}\n",
    "  for idx, row in image_bbox_df.iterrows():\n",
    "      image_paths.append(row['path'])\n",
    "      labels.append(class_to_label[row['class']])\n",
    "\n",
    "\n",
    "  # shuffle\n",
    "  image_paths_sh = []\n",
    "  labels_sh = []\n",
    "  idxs = np.random.permutation(len(image_paths))\n",
    "  for i in range(len(image_paths)):\n",
    "      image_paths_sh.append(image_paths[idxs[i]])\n",
    "      labels_sh.append(labels[idxs[i]])\n",
    "\n",
    "  # split the data into train/val\n",
    "  image_paths_train = image_paths_sh[:round(len(image_paths_sh)*0.8)]\n",
    "  labels_train = labels_sh[:round(len(labels_sh)*0.8)]\n",
    "  \n",
    "  image_paths_val = image_paths_sh[int(round(len(image_paths_sh)*0.8)):]\n",
    "  labels_val = labels_sh[int(round(len(labels_sh)*0.8)):]\n",
    "\n",
    "  return image_paths_train, labels_train, image_paths_val, labels_val"
   ]
  },
  {
   "cell_type": "code",
   "execution_count": null,
   "metadata": {},
   "outputs": [],
   "source": [
    "image_paths_train, labels_train, image_paths_val, labels_val = load_cxray_list(ROOT_DIR, '1', False)"
   ]
  },
  {
   "cell_type": "code",
   "execution_count": null,
   "metadata": {},
   "outputs": [],
   "source": [
    "# Exercise 3: Plot the number of instances for each class in the training set\n",
    "# ('Normal': 0, 'Lung Opacity': 1, 'No Lung Opacity / Not Normal': 2)"
   ]
  },
  {
   "cell_type": "code",
   "execution_count": null,
   "metadata": {},
   "outputs": [],
   "source": [
    "# Exercise 4: Plot the number of instances for each class in the validation set"
   ]
  },
  {
   "cell_type": "code",
   "execution_count": null,
   "metadata": {},
   "outputs": [],
   "source": [
    "# Exercise 5: Get the mean and std for the images in the training set"
   ]
  },
  {
   "cell_type": "code",
   "execution_count": null,
   "metadata": {},
   "outputs": [],
   "source": [
    "# Normalize the images, and print the mean and std for the images in the training set"
   ]
  },
  {
   "cell_type": "code",
   "execution_count": 9,
   "metadata": {},
   "outputs": [
    {
     "data": {
      "text/plain": [
       "'0.9.0'"
      ]
     },
     "execution_count": 9,
     "metadata": {},
     "output_type": "execute_result"
    }
   ],
   "source": [
    "seaborn.__version__"
   ]
  },
  {
   "cell_type": "code",
   "execution_count": 8,
   "metadata": {},
   "outputs": [],
   "source": [
    "import seaborn"
   ]
  },
  {
   "cell_type": "code",
   "execution_count": null,
   "metadata": {},
   "outputs": [],
   "source": []
  }
 ],
 "metadata": {
  "kernelspec": {
   "display_name": "Python 3",
   "language": "python",
   "name": "python3"
  },
  "language_info": {
   "codemirror_mode": {
    "name": "ipython",
    "version": 3
   },
   "file_extension": ".py",
   "mimetype": "text/x-python",
   "name": "python",
   "nbconvert_exporter": "python",
   "pygments_lexer": "ipython3",
   "version": "3.6.7"
  }
 },
 "nbformat": 4,
 "nbformat_minor": 2
}
