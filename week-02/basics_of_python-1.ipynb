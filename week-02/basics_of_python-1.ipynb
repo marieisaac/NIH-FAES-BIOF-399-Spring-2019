{
 "cells": [
  {
   "cell_type": "code",
   "execution_count": null,
   "metadata": {},
   "outputs": [],
   "source": [
    "# install some libraries if not installed already\n",
    "!pip install --upgrade scikit-image \n",
    "!pip install imgaug\n",
    "!pip install pandas==0.23.4\n",
    "!pip install pydicom"
   ]
  },
  {
   "cell_type": "code",
   "execution_count": null,
   "metadata": {},
   "outputs": [],
   "source": [
    "# get the dataset if you don't have it already or on Colab - 1\n",
    "import os\n",
    "!git clone https://github.com/myleott/mnist_png.git"
   ]
  },
  {
   "cell_type": "code",
   "execution_count": null,
   "metadata": {},
   "outputs": [],
   "source": [
    "# get the dataset if you don't have it already or on Colab - 2\n",
    "os.chdir('mnist_png')"
   ]
  },
  {
   "cell_type": "code",
   "execution_count": null,
   "metadata": {},
   "outputs": [],
   "source": [
    "# get the dataset if you don't have it already or on Colab - 3\n",
    "!tar -xzf mnist_png.tar.gz"
   ]
  },
  {
   "cell_type": "code",
   "execution_count": null,
   "metadata": {},
   "outputs": [],
   "source": [
    "# Download and unzip pneumonia detection data if you're on Colab or don't have it already on Biowulf - 1\n",
    "ROOT_DIR = '../pn_chest_xray'\n",
    "if not os.path.exists(ROOT_DIR):\n",
    "    os.makedirs(ROOT_DIR)\n",
    "os.chdir(ROOT_DIR)"
   ]
  },
  {
   "cell_type": "code",
   "execution_count": null,
   "metadata": {
    "scrolled": true
   },
   "outputs": [],
   "source": [
    "# Download and unzip pneumonia detection data if you're on Colab or don't have it already on Biowulf - 2\n",
    "!wget --no-check-certificate -r 'https://docs.google.com/uc?export=download&id=1ertt7A696f8HC0qk-yqmSoTZKCsp2XWU' -O stage_1_train_images.zip"
   ]
  },
  {
   "cell_type": "code",
   "execution_count": null,
   "metadata": {
    "scrolled": true
   },
   "outputs": [],
   "source": [
    "# Download and unzip pneumonia detection data if you're on Colab or don't have it already on Biowulf - 3\n",
    "!wget --no-check-certificate -r 'https://docs.google.com/uc?export=download&id=1ppgqzDVa9hQYbxgjV_k7AUUOKTw7ca9Q' -O stage_1_test_images.zip"
   ]
  },
  {
   "cell_type": "code",
   "execution_count": null,
   "metadata": {
    "scrolled": true
   },
   "outputs": [],
   "source": [
    "# Download and unzip pneumonia detection data if you're on Colab or don't have it already on Biowulf - 4\n",
    "!wget --no-check-certificate -r 'https://docs.google.com/uc?export=download&id=1yI8jJw9DGMeZeMgHaoZBUeuebt11qe0v' -O stage_1_train_labels.csv.zip"
   ]
  },
  {
   "cell_type": "code",
   "execution_count": null,
   "metadata": {
    "scrolled": true
   },
   "outputs": [],
   "source": [
    "# Download and unzip pneumonia detection data if you're on Colab or don't have it already on Biowulf - 5\n",
    "!wget --no-check-certificate -r 'https://docs.google.com/uc?export=download&id=1lpa5bsCKOgesx1zP7h5UIDwN4FzvjooD' -O stage_1_detailed_class_info.csv.zip"
   ]
  },
  {
   "cell_type": "code",
   "execution_count": null,
   "metadata": {
    "scrolled": true
   },
   "outputs": [],
   "source": [
    "# Download and unzip pneumonia detection data if you're on Colab or don't have it already on Biowulf - 6\n",
    "# unzipping takes a few minutes\n",
    "!unzip -q -o stage_1_test_images.zip -d stage_1_test_images\n",
    "!unzip -q -o stage_1_train_images.zip -d stage_1_train_images\n",
    "!unzip -q -o stage_1_train_labels.csv.zip\n",
    "!unzip -q -o stage_1_detailed_class_info.csv.zip"
   ]
  },
  {
   "cell_type": "code",
   "execution_count": null,
   "metadata": {},
   "outputs": [],
   "source": [
    "# Download and unzip pneumonia detection data if you're on Colab or don't have it already on Biowulf - 7\n",
    "# fix some permission issues\n",
    "!chmod 644 stage_1_detailed_class_info.csv\n",
    "!chmod 644 stage_1_train_labels.csv"
   ]
  },
  {
   "cell_type": "code",
   "execution_count": null,
   "metadata": {},
   "outputs": [],
   "source": [
    "# import some libraries we will use\n",
    "import os, sys, glob, csv\n",
    "import pydicom\n",
    "\n",
    "import matplotlib.pyplot as plt\n",
    "import numpy as np\n",
    "\n",
    "from skimage import io"
   ]
  },
  {
   "cell_type": "code",
   "execution_count": null,
   "metadata": {},
   "outputs": [],
   "source": [
    "# MNIST handwritten digits"
   ]
  },
  {
   "cell_type": "code",
   "execution_count": null,
   "metadata": {},
   "outputs": [],
   "source": [
    "mnist_base_dir = '../mnist_png/mnist_png' # or point to appropriate directory if you're on Biowulf and already have the data"
   ]
  },
  {
   "cell_type": "code",
   "execution_count": null,
   "metadata": {},
   "outputs": [],
   "source": [
    "# directories for training and testing sets \n",
    "mnist_base_dir_tr = os.path.join(mnist_base_dir, 'training/')\n",
    "mnist_base_dir_te = os.path.join(mnist_base_dir, 'testing/')"
   ]
  },
  {
   "cell_type": "code",
   "execution_count": null,
   "metadata": {},
   "outputs": [],
   "source": [
    "# list '1' images\n",
    "mnist_ones_tr = glob.glob(os.path.join(mnist_base_dir_tr, '1', '*.png'))\n",
    "mnist_ones_te = glob.glob(os.path.join(mnist_base_dir_te, '1', '*.png'))"
   ]
  },
  {
   "cell_type": "code",
   "execution_count": null,
   "metadata": {
    "scrolled": true
   },
   "outputs": [],
   "source": [
    "# display 10 examples\n",
    "for idx, imf in enumerate(mnist_ones_tr):\n",
    "    plt.figure()\n",
    "    plt.imshow(io.imread(imf), cmap='gray')\n",
    "    \n",
    "    if idx >=10:\n",
    "        break"
   ]
  },
  {
   "cell_type": "code",
   "execution_count": null,
   "metadata": {},
   "outputs": [],
   "source": [
    "# Task 1: try visualize test cases and other digits categories"
   ]
  },
  {
   "cell_type": "code",
   "execution_count": null,
   "metadata": {},
   "outputs": [],
   "source": [
    "# Task 2: try to randomize which 10 images you visualize"
   ]
  },
  {
   "cell_type": "code",
   "execution_count": null,
   "metadata": {},
   "outputs": [],
   "source": [
    "# Chest x-ray pneumonia detection dataset"
   ]
  },
  {
   "cell_type": "code",
   "execution_count": null,
   "metadata": {},
   "outputs": [],
   "source": [
    "# If you're on Colab - 1\n",
    "!git clone https://github.com/khcs/NIH-FAES-BIOF-399-Spring-2019.git"
   ]
  },
  {
   "cell_type": "code",
   "execution_count": null,
   "metadata": {},
   "outputs": [],
   "source": [
    "# If you're on Colab - 2\n",
    "sys.path.append(\"NIH-FAES-BIOF-399-Spring-2019/week-02\")"
   ]
  },
  {
   "cell_type": "code",
   "execution_count": null,
   "metadata": {},
   "outputs": [],
   "source": [
    "# chest x-ray root directory (that you downloaded from week-01)\n",
    "chestpnx_dir = '../pn_chest_xray' # or point to the right directory\n",
    "stage_num = '1'\n",
    "test_only_part = True"
   ]
  },
  {
   "cell_type": "code",
   "execution_count": null,
   "metadata": {},
   "outputs": [],
   "source": [
    "# import custom-written functions\n",
    "import image_bbox_loader\n",
    "import box_utils"
   ]
  },
  {
   "cell_type": "code",
   "execution_count": null,
   "metadata": {},
   "outputs": [],
   "source": [
    "# load images, bounding-boxes, labels using the custom-written functions\n",
    "image_bbox_label_list = image_bbox_loader.load_image_bbox_label_list(chestpnx_dir,\n",
    "                                                                     stage_num, test_only_part)"
   ]
  },
  {
   "cell_type": "code",
   "execution_count": null,
   "metadata": {},
   "outputs": [],
   "source": [
    "# show one example image\n",
    "for imf, boxes, labels in image_bbox_label_list:\n",
    "    img = pydicom.dcmread(imf).pixel_array\n",
    "    plt.imshow(img, cmap='gray')\n",
    "    break"
   ]
  },
  {
   "cell_type": "code",
   "execution_count": null,
   "metadata": {},
   "outputs": [],
   "source": [
    "# import imgaug package for visuzlizing bounding-boxes\n",
    "from imgaug import augmenters as iaa\n",
    "import imgaug as ia"
   ]
  },
  {
   "cell_type": "code",
   "execution_count": null,
   "metadata": {},
   "outputs": [],
   "source": [
    "# show one example image with bounding boxes\n",
    "for imf, boxes, labels in image_bbox_label_list:\n",
    "    img = pydicom.dcmread(imf).pixel_array\n",
    "    img2 =  np.stack((img,)*3, axis=-1)\n",
    "    \n",
    "    for boxi_ in boxes: # batch_size=1\n",
    "        \n",
    "        boxi = box_utils.center_form_to_corner_form(\n",
    "               box_utils.min_wh_form_to_center_form(boxi_)).numpy()\n",
    "        \n",
    "        bbi = ia.BoundingBox(x1=boxi[0],\n",
    "                             x2=boxi[2],\n",
    "                             y1=boxi[1],\n",
    "                             y2=boxi[3])\n",
    "        img2 = bbi.draw_on_image(img2, thickness=6)\n",
    "    \n",
    "    plt.imshow(img2)\n",
    "    break"
   ]
  },
  {
   "cell_type": "code",
   "execution_count": null,
   "metadata": {},
   "outputs": [],
   "source": [
    "# Task 3: try to visualize 10 random examples of chest x-ray with pneumonia"
   ]
  }
 ],
 "metadata": {
  "kernelspec": {
   "display_name": "Python 3",
   "language": "python",
   "name": "python3"
  },
  "language_info": {
   "codemirror_mode": {
    "name": "ipython",
    "version": 3
   },
   "file_extension": ".py",
   "mimetype": "text/x-python",
   "name": "python",
   "nbconvert_exporter": "python",
   "pygments_lexer": "ipython3",
   "version": "3.6.7"
  }
 },
 "nbformat": 4,
 "nbformat_minor": 2
}
